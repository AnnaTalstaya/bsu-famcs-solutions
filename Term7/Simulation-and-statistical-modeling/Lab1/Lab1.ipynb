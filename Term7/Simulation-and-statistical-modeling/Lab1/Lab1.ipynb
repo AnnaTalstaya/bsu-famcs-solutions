{
 "cells": [
  {
   "cell_type": "code",
   "execution_count": 2,
   "metadata": {},
   "outputs": [],
   "source": [
    "import matplotlib.pyplot as plt\n",
    "import numpy as np\n",
    "from bisect import bisect_right\n",
    "%matplotlib inline"
   ]
  },
  {
   "cell_type": "markdown",
   "metadata": {},
   "source": [
    "### Taks1. Осуществить моделирование n = 1000 реализаций БСВ с помощью мультипликативного конгруэнтного метода (МКМ) с параметрами $a_0$, β, M = $2^{31}$"
   ]
  },
  {
   "cell_type": "code",
   "execution_count": 1,
   "metadata": {},
   "outputs": [],
   "source": [
    "n = 1000"
   ]
  },
  {
   "cell_type": "markdown",
   "metadata": {},
   "source": [
    "Sensor parameters (параметры датчика)"
   ]
  },
  {
   "cell_type": "code",
   "execution_count": 47,
   "metadata": {},
   "outputs": [],
   "source": [
    "M = 2 ** 31\n",
    "alpha0 = 16807\n",
    "beta = 16807"
   ]
  },
  {
   "cell_type": "markdown",
   "metadata": {},
   "source": [
    "### Multiplicative congruent method"
   ]
  },
  {
   "cell_type": "markdown",
   "metadata": {},
   "source": [
    "Согласно этому методу псевдослучайная последовательность реализаций $\\alpha_1,...,\\alpha_n$ БСВ $\\alpha$ определяется по реккурентным формулам: $$\\alpha_t = \\alpha_t^* / M$$ $$\\alpha_t^* = \\beta\\alpha_{t-1}^*modM (t = 1,2,...),$$ где $\\beta,M,\\alpha_0^*$ - параметры датчика (натуральные числа) :  $\\beta$ - множитель ($\\beta<M$), M – модуль,  $\\alpha_0^* \\in \\{1,...,M-1\\}$ - стартовое значение (нечётное число).   "
   ]
  },
  {
   "cell_type": "code",
   "execution_count": 48,
   "metadata": {},
   "outputs": [],
   "source": [
    "def mcm(previous_alpha, beta, M, n):\n",
    "    for _ in range(n):\n",
    "        alpha = (beta * previous_alpha) % M\n",
    "        previous_alpha = alpha\n",
    "        yield alpha / M"
   ]
  },
  {
   "cell_type": "code",
   "execution_count": 49,
   "metadata": {},
   "outputs": [],
   "source": [
    "mcm_values = list(mcm(alpha0, beta, M, n))"
   ]
  },
  {
   "cell_type": "markdown",
   "metadata": {},
   "source": [
    "#### Построим гистограмму выборки"
   ]
  },
  {
   "cell_type": "markdown",
   "metadata": {},
   "source": [
    "### Task2. Осуществить моделирование n = 1000 реализаций БСВ с помощью метода Макларена-Марсальи (один датчик должен быть мультипликативно конгруентный (п. 1), второй – на выбор). K – объем вспомогательной таблицы"
   ]
  },
  {
   "cell_type": "code",
   "execution_count": 50,
   "metadata": {},
   "outputs": [],
   "source": [
    "K = 64"
   ]
  },
  {
   "cell_type": "code",
   "execution_count": 51,
   "metadata": {},
   "outputs": [],
   "source": [
    "mcm_values2 = list(mcm(alpha0, beta, M, n + K))"
   ]
  },
  {
   "cell_type": "code",
   "execution_count": 52,
   "metadata": {},
   "outputs": [
    {
     "data": {
      "text/plain": [
       "Text(0, 0.5, '$pdf$')"
      ]
     },
     "execution_count": 52,
     "metadata": {},
     "output_type": "execute_result"
    },
    {
     "data": {
      "image/png": "[encoded data removed]",
      "text/plain": [
       "<Figure size 432x288 with 1 Axes>"
      ]
     },
     "metadata": {
      "needs_background": "light"
     },
     "output_type": "display_data"
    }
   ],
   "source": [
    "plt.hist(mcm_values2, bins = 20, density=True)\n",
    "\n",
    "plt.title('Multiplicative congruent method probability distribution function')\n",
    "plt.xlabel('$x$')\n",
    "plt.ylabel('$pdf$')"
   ]
  },
  {
   "cell_type": "markdown",
   "metadata": {},
   "source": [
    "Создадим 2ой массив СВ"
   ]
  },
  {
   "cell_type": "code",
   "execution_count": 53,
   "metadata": {},
   "outputs": [],
   "source": [
    "uniform_values = list(np.random.rand(1000)) #uniform distribution over [0, 1)."
   ]
  },
  {
   "cell_type": "code",
   "execution_count": 54,
   "metadata": {},
   "outputs": [
    {
     "data": {
      "text/plain": [
       "Text(0, 0.5, '$pdf$')"
      ]
     },
     "execution_count": 54,
     "metadata": {},
     "output_type": "execute_result"
    },
    {
     "data": {
      "image/png": "[encoded data removed]",
      "text/plain": [
       "<Figure size 432x288 with 1 Axes>"
      ]
     },
     "metadata": {
      "needs_background": "light"
     },
     "output_type": "display_data"
    }
   ],
   "source": [
    "plt.hist(uniform_values, bins = 20, density=True)\n",
    "\n",
    "plt.title('uniform probability distribution function')\n",
    "plt.xlabel('$x$')\n",
    "plt.ylabel('$pdf$')"
   ]
  },
  {
   "cell_type": "markdown",
   "metadata": {},
   "source": [
    "### Maclaren Marsaglia method"
   ]
  },
  {
   "cell_type": "markdown",
   "metadata": {},
   "source": [
    "Метод основан на комбинировании двух простейших программных датчиков БСВ (например, мультипликативных конгруэнтных).  \n",
    "Пусть $\\{\\beta_t\\}, \\{c_t\\}$ - псевдослучайные последовательности, порождаемые независимо работающими датчиками; $\\{\\alpha_t\\}$ - результирующая псевдослучайная последовательность реализаций БСВ; V = {V(0),V(1),...,V(K-1)} вспомогательная таблица чисел.  \n",
    "Процесс вычисления $\\{\\alpha_t\\}$ включает следующие этапы:\n",
    "* первоначальное заполнение таблицы V: $$V(i)=b_i, i=\\overline{0,K-1};$$\n",
    "* случайный выбор из таблицы: $$\\alpha_t = V(s),$$ $$s=[c_t \\cdot K];$$\n",
    "* обновление табличных значений: $$V(s)=b_{t+K}, t=0,1,2,..$$"
   ]
  },
  {
   "cell_type": "code",
   "execution_count": 55,
   "metadata": {},
   "outputs": [],
   "source": [
    "def mmm(list1, list2, K):\n",
    "    v = list1[:K]\n",
    "    \n",
    "    for i in range(n):\n",
    "        s = int(list2[i] * K)\n",
    "        yield v[s]\n",
    "        v[s] = list1[i + K]"
   ]
  },
  {
   "cell_type": "code",
   "execution_count": 56,
   "metadata": {},
   "outputs": [],
   "source": [
    "mmm_values = list(mmm(mcm_values2, uniform_values, K))"
   ]
  },
  {
   "cell_type": "code",
   "execution_count": 57,
   "metadata": {},
   "outputs": [
    {
     "data": {
      "text/plain": [
       "Text(0, 0.5, '$pdf$')"
      ]
     },
     "execution_count": 57,
     "metadata": {},
     "output_type": "execute_result"
    },
    {
     "data": {
      "image/png": "[encoded data removed]",
      "text/plain": [
       "<Figure size 432x288 with 1 Axes>"
      ]
     },
     "metadata": {
      "needs_background": "light"
     },
     "output_type": "display_data"
    }
   ],
   "source": [
    "plt.hist(mmm_values, bins = 20, density=True)\n",
    "\n",
    "plt.title('Maclaren Marsaglia method probability distribution function')\n",
    "plt.xlabel('$x$')\n",
    "plt.ylabel('$pdf$')"
   ]
  },
  {
   "cell_type": "markdown",
   "metadata": {},
   "source": [
    "### Task3. Проверить точность моделирования обоих датчиков (п. 1 и п. 2) с помощью критерия согласия Колмогорова и χ2-критерия Пирсона с уровнем значимости ε = 0.05."
   ]
  },
  {
   "cell_type": "markdown",
   "metadata": {},
   "source": [
    "### Критерий согласия Колмогорова"
   ]
  },
  {
   "cell_type": "markdown",
   "metadata": {},
   "source": [
    "Критерий Колмогорова-Смирнова используется для проверки гипотезы $H_0$: \"случайная величина X имеет распределение F(x)\"."
   ]
  },
  {
   "cell_type": "markdown",
   "metadata": {},
   "source": [
    "Статистика, называемая расстоянием Колмогорова между $\\hat{F_\\xi}(\\cdot)$ и $F_0(\\cdot)$: $$D_n=sup_{x\\in R^1}|\\hat{F_\\xi}(x)-F_0(x)|$$"
   ]
  },
  {
   "cell_type": "markdown",
   "metadata": {},
   "source": [
    "delta https://helpstat.ru/raspredelenie-statistiki-kolmogorova/"
   ]
  },
  {
   "cell_type": "code",
   "execution_count": 58,
   "metadata": {},
   "outputs": [],
   "source": [
    "delta = 1.358"
   ]
  },
  {
   "cell_type": "code",
   "execution_count": 59,
   "metadata": {},
   "outputs": [],
   "source": [
    "def kolmogorov(random_values, delta):\n",
    "        \n",
    "    n = len(random_values)\n",
    "\n",
    "    empirical = sorted(random_values)\n",
    "    theoretical_cdf = [i / n for i in range(n)]\n",
    "    \n",
    "    kolmogorov_distance = 0\n",
    "    for i, empirical_value in enumerate(empirical):\n",
    "        kolmogorov_distance = max(kolmogorov_distance, abs(empirical_value - theoretical_cdf[i]))\n",
    "       \n",
    "    res = np.sqrt(n) * kolmogorov_distance\n",
    "    return res < delta    "
   ]
  },
  {
   "cell_type": "code",
   "execution_count": 60,
   "metadata": {},
   "outputs": [
    {
     "data": {
      "text/plain": [
       "True"
      ]
     },
     "execution_count": 60,
     "metadata": {},
     "output_type": "execute_result"
    }
   ],
   "source": [
    "kolmogorov(mcm_values, delta)"
   ]
  },
  {
   "cell_type": "code",
   "execution_count": 61,
   "metadata": {},
   "outputs": [
    {
     "data": {
      "text/plain": [
       "True"
      ]
     },
     "execution_count": 61,
     "metadata": {},
     "output_type": "execute_result"
    }
   ],
   "source": [
    "kolmogorov(mmm_values, delta)"
   ]
  },
  {
   "cell_type": "markdown",
   "metadata": {},
   "source": [
    "### Критерий χ2-критерия согласия Пирсона"
   ]
  },
  {
   "cell_type": "markdown",
   "metadata": {},
   "source": [
    "Распределение $\\chi^2$ (хи-квадрат) с n степенями свободы — это распределение суммы квадратов n независимых стандартных нормальных случайных величин. http://www.machinelearning.ru/wiki/index.php?title=%D0%A0%D0%B0%D1%81%D0%BF%D1%80%D0%B5%D0%B4%D0%B5%D0%BB%D0%B5%D0%BD%D0%B8%D0%B5_%D1%85%D0%B8-%D0%BA%D0%B2%D0%B0%D0%B4%D1%80%D0%B0%D1%82"
   ]
  },
  {
   "cell_type": "markdown",
   "metadata": {},
   "source": [
    "Критерий Пирсона используется для проверки гипотезы $H_0$: \"случайная величина X имеет распределение F(x)\"."
   ]
  },
  {
   "cell_type": "markdown",
   "metadata": {},
   "source": [
    "http://www.machinelearning.ru/wiki/index.php?title=%D0%9A%D1%80%D0%B8%D1%82%D0%B5%D1%80%D0%B8%D0%B9_%D1%85%D0%B8-%D0%BA%D0%B2%D0%B0%D0%B4%D1%80%D0%B0%D1%82"
   ]
  },
  {
   "cell_type": "markdown",
   "metadata": {},
   "source": [
    "Статистика критерия хи-квадрат: $$\\chi^2=\\sum_{i=1}^K \\frac{\\left(n_i- np_i\\right)^2}{np_i}$$"
   ]
  },
  {
   "cell_type": "code",
   "execution_count": 76,
   "metadata": {},
   "outputs": [],
   "source": [
    "K = 10 #число ячеек гистограммы\n",
    "delta_005_10 = 16.919"
   ]
  },
  {
   "cell_type": "code",
   "execution_count": 77,
   "metadata": {},
   "outputs": [],
   "source": [
    "def count_frequencies(random_values, K):\n",
    "    \n",
    "    min_el = min(random_values)\n",
    "    max_el = max(random_values)\n",
    "    \n",
    "    step = (max_el - min_el) / (K + 1)\n",
    "    intervals_values = np.arange(min_el, max_el, step)\n",
    "    \n",
    "    frequencies = [0] * K\n",
    "    \n",
    "    sorted_random_values = sorted(random_values)\n",
    "    \n",
    "    last_position = 0\n",
    "    for i in range(K):\n",
    "        position = bisect_right(sorted_random_values, intervals_values[i + 1])\n",
    "        frequencies[i] = position - last_position\n",
    "        last_position = position\n",
    "        \n",
    "    return frequencies"
   ]
  },
  {
   "cell_type": "code",
   "execution_count": 78,
   "metadata": {},
   "outputs": [],
   "source": [
    "def pearson(frequencies, p, n, K, delta):\n",
    "    chi_2 = sum([(frequencies[i] - n * p) ** 2 / (n * p) for i in range(K)])\n",
    "    print(chi_2)\n",
    "    return chi_2 < delta"
   ]
  },
  {
   "cell_type": "code",
   "execution_count": 79,
   "metadata": {},
   "outputs": [],
   "source": [
    "probability = 1 / K "
   ]
  },
  {
   "cell_type": "code",
   "execution_count": 80,
   "metadata": {},
   "outputs": [
    {
     "data": {
      "text/plain": [
       "[93, 92, 91, 101, 86, 86, 90, 91, 84, 93]"
      ]
     },
     "execution_count": 80,
     "metadata": {},
     "output_type": "execute_result"
    }
   ],
   "source": [
    "frequencies = count_frequencies(mcm_values, K)\n",
    "frequencies"
   ]
  },
  {
   "cell_type": "code",
   "execution_count": 81,
   "metadata": {},
   "outputs": [
    {
     "name": "stdout",
     "output_type": "stream",
     "text": [
      "10.73\n"
     ]
    },
    {
     "data": {
      "text/plain": [
       "True"
      ]
     },
     "execution_count": 81,
     "metadata": {},
     "output_type": "execute_result"
    }
   ],
   "source": [
    "pearson(frequencies, probability, n, K, delta_005_10)"
   ]
  },
  {
   "cell_type": "code",
   "execution_count": 82,
   "metadata": {},
   "outputs": [
    {
     "name": "stdout",
     "output_type": "stream",
     "text": [
      "10.209999999999999\n"
     ]
    },
    {
     "data": {
      "text/plain": [
       "True"
      ]
     },
     "execution_count": 82,
     "metadata": {},
     "output_type": "execute_result"
    }
   ],
   "source": [
    "mmm_frequencies = count_frequencies(mmm_values, K)\n",
    "pearson(mmm_frequencies, probability, n, K, delta_005_10)"
   ]
  }
 ],
 "metadata": {
  "kernelspec": {
   "display_name": "Python 3",
   "language": "python",
   "name": "python3"
  },
  "language_info": {
   "codemirror_mode": {
    "name": "ipython",
    "version": 3
   },
   "file_extension": ".py",
   "mimetype": "text/x-python",
   "name": "python",
   "nbconvert_exporter": "python",
   "pygments_lexer": "ipython3",
   "version": "3.6.8"
  }
 },
 "nbformat": 4,
 "nbformat_minor": 2
}
