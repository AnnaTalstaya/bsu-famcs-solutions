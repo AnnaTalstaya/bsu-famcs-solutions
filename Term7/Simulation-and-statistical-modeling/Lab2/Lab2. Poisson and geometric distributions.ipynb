{
 "cells": [
  {
   "cell_type": "code",
   "execution_count": 28,
   "metadata": {},
   "outputs": [],
   "source": [
    "import math\n",
    "from random import random\n",
    "import numpy as np\n",
    "from bisect import bisect_right, bisect_left\n",
    "import matplotlib.pyplot as plt\n",
    "%matplotlib inline"
   ]
  },
  {
   "cell_type": "markdown",
   "metadata": {},
   "source": [
    "## Poisson distribution"
   ]
  },
  {
   "cell_type": "code",
   "execution_count": 29,
   "metadata": {},
   "outputs": [],
   "source": [
    "def probability_poisson_distribution(k, lambda_val):\n",
    "    return (lambda_val ** k) * math.exp(-lambda_val) / math.factorial(k)"
   ]
  },
  {
   "cell_type": "markdown",
   "metadata": {},
   "source": [
    "## Geometric distribution"
   ]
  },
  {
   "cell_type": "code",
   "execution_count": 30,
   "metadata": {},
   "outputs": [],
   "source": [
    "def probability_geometric_distribution(k, p):\n",
    "    return p * (1-p)**(k) "
   ]
  },
  {
   "cell_type": "code",
   "execution_count": 31,
   "metadata": {},
   "outputs": [],
   "source": [
    "LAMBDA_VAL = 4 #for poisson\n",
    "p = 0.2  #probability of success in geometric\n",
    "n = 1000"
   ]
  },
  {
   "cell_type": "markdown",
   "metadata": {},
   "source": [
    " "
   ]
  },
  {
   "cell_type": "markdown",
   "metadata": {},
   "source": [
    "#### Task1. Осуществить моделирование n = 1000 реализаций СВ из заданных дискретных распределений."
   ]
  },
  {
   "cell_type": "markdown",
   "metadata": {},
   "source": [
    "Алгоритм моделирования СВ из **распределения Пуассона**: \n",
    "1. Принимается $a = e^{–λ}$, b = 1 и i = 0. \n",
    "\n",
    "2. Генерируется псевдослучайное число $u_{i+1}$ ~ U(0, 1) из непрерывного равномерного распределения на отрезке (0, 1), после чего присваиваются значения $b = b·u_{i+1}$.\n",
    "\n",
    "3. Если b < a, то возвращается значение x = i, в противном случае происходит переход к шагу 2 при i = i + 1.\n"
   ]
  },
  {
   "cell_type": "code",
   "execution_count": 32,
   "metadata": {},
   "outputs": [],
   "source": [
    "def poisson_modeling(lambda_val):\n",
    "    for _ in range(n):\n",
    "        i = 0\n",
    "        b = random()\n",
    "    \n",
    "        while b >= math.exp(-lambda_val):\n",
    "            b *= random()\n",
    "            i += 1\n",
    "        \n",
    "        yield i"
   ]
  },
  {
   "cell_type": "code",
   "execution_count": 33,
   "metadata": {},
   "outputs": [],
   "source": [
    "poisson_random_values = list(poisson_modeling(LAMBDA_VAL))"
   ]
  },
  {
   "cell_type": "code",
   "execution_count": 34,
   "metadata": {},
   "outputs": [
    {
     "data": {
      "text/plain": [
       "Text(0, 0.5, '$pdf$')"
      ]
     },
     "execution_count": 34,
     "metadata": {},
     "output_type": "execute_result"
    },
    {
     "data": {
      "image/png": "[encoded data removed]",
      "text/plain": [
       "<Figure size 432x288 with 1 Axes>"
      ]
     },
     "metadata": {
      "needs_background": "light"
     },
     "output_type": "display_data"
    }
   ],
   "source": [
    "plt.hist(poisson_random_values, bins = 12, density=True)\n",
    "\n",
    "plt.title('Poisson probability distribution function')\n",
    "plt.xlabel('$x$')\n",
    "plt.ylabel('$pdf$')"
   ]
  },
  {
   "cell_type": "markdown",
   "metadata": {},
   "source": [
    "Алгоритм моделирования СВ из **геометрического распределения через испытания Бернулли**:\n",
    "если данная вероятность успеха >= random(), то событие произошло и возвращаем количество успытаний Бернулли до успешного события, включая само успешное.    "
   ]
  },
  {
   "cell_type": "code",
   "execution_count": 35,
   "metadata": {},
   "outputs": [],
   "source": [
    "def geometric_modeling_bernoulli(p):\n",
    "    for _ in range(n):\n",
    "        \n",
    "        i = 1\n",
    "        while p < random():\n",
    "                i += 1\n",
    "            \n",
    "        yield i        "
   ]
  },
  {
   "cell_type": "code",
   "execution_count": 36,
   "metadata": {},
   "outputs": [],
   "source": [
    "geometric_random_values_bernoulli = list(geometric_modeling_bernoulli(p))"
   ]
  },
  {
   "cell_type": "code",
   "execution_count": 37,
   "metadata": {},
   "outputs": [
    {
     "data": {
      "text/plain": [
       "Text(0, 0.5, '$pdf$')"
      ]
     },
     "execution_count": 37,
     "metadata": {},
     "output_type": "execute_result"
    },
    {
     "data": {
      "image/png": "[encoded data removed]",
      "text/plain": [
       "<Figure size 432x288 with 1 Axes>"
      ]
     },
     "metadata": {
      "needs_background": "light"
     },
     "output_type": "display_data"
    }
   ],
   "source": [
    "plt.hist(geometric_random_values_bernoulli, bins = 10, density=True)\n",
    "\n",
    "plt.title('Geometric probability distribution function')\n",
    "plt.xlabel('$x$')\n",
    "plt.ylabel('$pdf$')"
   ]
  },
  {
   "cell_type": "markdown",
   "metadata": {},
   "source": [
    "Алгоритм моделирования СВ из геометрического распределения прямым методом обратных функций:\n",
    "\n",
    "1.\tМоделирование реализации а БСВ.\n",
    "2.\tПринятие решения о том, что реализацией $\\xi$ является значение x, определяемое соотношением: $$x=\\biggl[\\frac{ \\ln a }{ \\ln q } \\biggr]$$\n",
    " \n",
    "здесь [z] означает округление числа z в большую сторону до ближайшего целого значения.\n",
    "Коэффициент использования БСВ k = 1.\n"
   ]
  },
  {
   "cell_type": "code",
   "execution_count": 38,
   "metadata": {},
   "outputs": [],
   "source": [
    "def geometric_modeling(p):\n",
    "    for _ in range(n):   \n",
    "        \n",
    "        a = random()            \n",
    "        yield math.ceil(math.log(a) / math.log(1-p))"
   ]
  },
  {
   "cell_type": "code",
   "execution_count": 39,
   "metadata": {},
   "outputs": [],
   "source": [
    "geometric_random_values = list(geometric_modeling(p))"
   ]
  },
  {
   "cell_type": "code",
   "execution_count": 40,
   "metadata": {},
   "outputs": [
    {
     "data": {
      "text/plain": [
       "Text(0, 0.5, '$pdf$')"
      ]
     },
     "execution_count": 40,
     "metadata": {},
     "output_type": "execute_result"
    },
    {
     "data": {
      "image/png": "[encoded data removed]",
      "text/plain": [
       "<Figure size 432x288 with 1 Axes>"
      ]
     },
     "metadata": {
      "needs_background": "light"
     },
     "output_type": "display_data"
    }
   ],
   "source": [
    "plt.hist(geometric_random_values, bins = 10, density=True)\n",
    "\n",
    "plt.title('Geometric probability distribution function')\n",
    "plt.xlabel('$x$')\n",
    "plt.ylabel('$pdf$')"
   ]
  },
  {
   "cell_type": "markdown",
   "metadata": {},
   "source": [
    "#### Task2. Вывести на экран несмещенные оценки математического ожидания и дисперсии, сравнить их с истинными значениями."
   ]
  },
  {
   "cell_type": "markdown",
   "metadata": {},
   "source": [
    "Values of math. expectetion and variance:"
   ]
  },
  {
   "cell_type": "code",
   "execution_count": 41,
   "metadata": {},
   "outputs": [],
   "source": [
    "poisson_mathematical_expectation = LAMBDA_VAL\n",
    "poisson_variance = LAMBDA_VAL\n",
    "\n",
    "geometric_mathematical_expectation = 1 / p\n",
    "geometric__variance = (1 - p) / p**2"
   ]
  },
  {
   "cell_type": "markdown",
   "metadata": {},
   "source": [
    "Unbiased estimate of mathematical expectation of discrete random variable:\n",
    "$$Unbiased\\_estimate\\_of\\_math\\_expectation = \\frac{ \\sum_{i=1}^n X_i }{ n }$$"
   ]
  },
  {
   "cell_type": "code",
   "execution_count": 42,
   "metadata": {},
   "outputs": [],
   "source": [
    "def count_unbiased_estimate_of_math_expectation(variables_list):\n",
    "    return sum(variables_list) / len(variables_list)"
   ]
  },
  {
   "cell_type": "markdown",
   "metadata": {},
   "source": [
    "Unbiased variance estimate:\n",
    "$$Unbiased\\_variance\\_estimate=\\frac{ \\sum_{i=1}^n (X_i - Unbiased\\_estimate\\_of\\_math\\_expectation)^{2}}{ n-1 }$$"
   ]
  },
  {
   "cell_type": "code",
   "execution_count": 43,
   "metadata": {},
   "outputs": [],
   "source": [
    "def count_unbiased_variance_estimage(variables_list, unbiased_estimate_of_math_expectation):\n",
    "    return sum((rand_var - unbiased_estimate_of_math_expectation)**2 for rand_var in variables_list) / (n - 1)"
   ]
  },
  {
   "cell_type": "markdown",
   "metadata": {},
   "source": [
    "Show results:"
   ]
  },
  {
   "cell_type": "code",
   "execution_count": 44,
   "metadata": {},
   "outputs": [],
   "source": [
    "def show_info(name, math_expectation, unbiased_estimate_of_math_exp, variance, unbiased_variance_estimage):\n",
    "    print(name)\n",
    "    print('E = {}'.format(math_expectation))\n",
    "    print('Unbiased estimate of mathematical expectation = {}'.format(unbiased_estimate_of_math_exp))\n",
    "    print('D = {}'.format(variance))\n",
    "    print('Unbiased variance estimate = {}'.format(unbiased_variance_estimage))\n",
    "    print()"
   ]
  },
  {
   "cell_type": "code",
   "execution_count": 45,
   "metadata": {},
   "outputs": [
    {
     "name": "stdout",
     "output_type": "stream",
     "text": [
      "*****Geometric distribution through Bernoulli*****\n",
      "E = 5.0\n",
      "Unbiased estimate of mathematical expectation = 4.837\n",
      "D = 19.999999999999996\n",
      "Unbiased variance estimate = 19.199630630630622\n",
      "\n",
      "*****Geometric distribution*****\n",
      "E = 5.0\n",
      "Unbiased estimate of mathematical expectation = 5.028\n",
      "D = 19.999999999999996\n",
      "Unbiased variance estimate = 20.565781781781773\n",
      "\n",
      "*****Poisson distribution*****\n",
      "E = 4\n",
      "Unbiased estimate of mathematical expectation = 3.946\n",
      "D = 4\n",
      "Unbiased variance estimate = 4.035119119119124\n",
      "\n"
     ]
    }
   ],
   "source": [
    "unbiased_estimate_of_math_expectation_1 = count_unbiased_estimate_of_math_expectation(geometric_random_values_bernoulli)\n",
    "unbiased_variance_estimage_1 = count_unbiased_variance_estimage(geometric_random_values_bernoulli, \n",
    "                                                             unbiased_estimate_of_math_expectation_1)\n",
    "show_info('*****Geometric distribution through Bernoulli*****',\n",
    "          geometric_mathematical_expectation,\n",
    "          unbiased_estimate_of_math_expectation_1,\n",
    "          geometric__variance,\n",
    "          unbiased_variance_estimage_1)\n",
    "\n",
    "\n",
    "unbiased_estimate_of_math_expectation_2 = count_unbiased_estimate_of_math_expectation(geometric_random_values)\n",
    "unbiased_variance_estimage_2 = count_unbiased_variance_estimage(geometric_random_values, \n",
    "                                                             unbiased_estimate_of_math_expectation_2)\n",
    "show_info('*****Geometric distribution*****',\n",
    "          geometric_mathematical_expectation,\n",
    "          unbiased_estimate_of_math_expectation_2,\n",
    "          geometric__variance,\n",
    "          unbiased_variance_estimage_2)\n",
    "\n",
    "\n",
    "unbiased_estimate_of_math_expectation_poisson = count_unbiased_estimate_of_math_expectation(poisson_random_values)\n",
    "unbiased_variance_estimage_poisson = count_unbiased_variance_estimage(poisson_random_values, \n",
    "                                                             unbiased_estimate_of_math_expectation_poisson)\n",
    "show_info('*****Poisson distribution*****',\n",
    "          poisson_mathematical_expectation,\n",
    "          unbiased_estimate_of_math_expectation_poisson,\n",
    "          poisson_variance,\n",
    "          unbiased_variance_estimage_poisson)"
   ]
  },
  {
   "cell_type": "markdown",
   "metadata": {},
   "source": [
    "#### Task3. Для каждой из случайных величин построить свой χ2-критерием Пирсона с уровнем значимости ε=0.05. Проверить, что вероятность ошибки I рода стремится к 0.05.\n",
    "#### Task4. Осуществить проверку каждой из сгенерированных выборок каждым из построенных критериев."
   ]
  },
  {
   "cell_type": "markdown",
   "metadata": {},
   "source": [
    "Распределение $\\chi^2$ (хи-квадрат) с n степенями свободы — это распределение суммы квадратов n независимых стандартных нормальных случайных величин. http://www.machinelearning.ru/wiki/index.php?title=%D0%A0%D0%B0%D1%81%D0%BF%D1%80%D0%B5%D0%B4%D0%B5%D0%BB%D0%B5%D0%BD%D0%B8%D0%B5_%D1%85%D0%B8-%D0%BA%D0%B2%D0%B0%D0%B4%D1%80%D0%B0%D1%82"
   ]
  },
  {
   "cell_type": "markdown",
   "metadata": {},
   "source": [
    "Критерий Пирсона используется для проверки гипотезы $H_0$: \"случайная величина X имеет распределение F(x)\"."
   ]
  },
  {
   "cell_type": "markdown",
   "metadata": {},
   "source": [
    "http://www.machinelearning.ru/wiki/index.php?title=%D0%9A%D1%80%D0%B8%D1%82%D0%B5%D1%80%D0%B8%D0%B9_%D1%85%D0%B8-%D0%BA%D0%B2%D0%B0%D0%B4%D1%80%D0%B0%D1%82"
   ]
  },
  {
   "cell_type": "markdown",
   "metadata": {},
   "source": [
    "Гипотетические вероятности попадания значений $\\xi$ в ячейки гистограммы при истинной гипотезе $H_0$ и полностью заданной функции $F_0(x)$ равны: $$p_k = P\\{\\xi \\in [x_{k-1}, x_k)\\} = F_0(x_k) - F_0(x_{k-1}), k = \\overline{1, K},$$\n",
    "где $\\{x_l\\}(l=\\overline{0, K})$ - границы ячеек гистограммы"
   ]
  },
  {
   "cell_type": "markdown",
   "metadata": {},
   "source": [
    "Статистика критерия хи-квадрат: $$\\chi^2=\\sum_{i=1}^K \\frac{\\left(n_i- np_i\\right)^2}{np_i}$$"
   ]
  },
  {
   "cell_type": "markdown",
   "metadata": {},
   "source": [
    "Возьмем K = 10 - количество ячеек гистограммы(кол-во групп)"
   ]
  },
  {
   "cell_type": "code",
   "execution_count": 46,
   "metadata": {},
   "outputs": [],
   "source": [
    "K = 10 #число ячеек гистограммы\n",
    "delta_005_10 = 16.919"
   ]
  },
  {
   "cell_type": "code",
   "execution_count": 47,
   "metadata": {},
   "outputs": [],
   "source": [
    "def count_discrete_frequencies(random_seq, K):\n",
    "    \n",
    "    min_el = min(random_seq)\n",
    "    max_el = max(random_seq)\n",
    "    \n",
    "    step = math.floor((max_el - min_el) / K)\n",
    "    \n",
    "    intervals_values = list(range(min_el, max_el, step)) \n",
    "      \n",
    "    frequencies = [0] * K\n",
    "    \n",
    "    sorted_random_seq = sorted(random_seq)\n",
    "    \n",
    "    last_position = 0\n",
    "    for i in range(K - 1):\n",
    "        position = bisect_left(sorted_random_seq, intervals_values[i + 1]) #obtain position of insertion\n",
    "        frequencies[i] = position - last_position\n",
    "        last_position = position\n",
    "\n",
    "    frequencies[K - 1] = len(random_seq) - last_position\n",
    "\n",
    "    return frequencies"
   ]
  },
  {
   "cell_type": "code",
   "execution_count": 48,
   "metadata": {},
   "outputs": [],
   "source": [
    "def count_discrete_probabilities(random_seq, probability_f, *args):\n",
    "    \n",
    "    min_el = min(random_seq)\n",
    "    max_el = max(random_seq)\n",
    "\n",
    "    step = math.floor((max_el - min_el) / K)\n",
    "        \n",
    "    p = [sum(probability_f(j, *args) for j in range(i*step, (i+1)*step)) for i in range(K-1)]   \n",
    "    p.append(1 - sum(p))\n",
    "\n",
    "    return p"
   ]
  },
  {
   "cell_type": "code",
   "execution_count": 49,
   "metadata": {},
   "outputs": [],
   "source": [
    "def pearson(frequencies, p, n, K, delta):\n",
    "    chi_2 = sum([(frequencies[i] - n * p[i]) ** 2 / (n * p[i]) for i in range(K)])\n",
    "    print(\"chi_2 = {}, delta = {}\".format(chi_2, delta))\n",
    "    return chi_2 < delta"
   ]
  },
  {
   "cell_type": "markdown",
   "metadata": {},
   "source": [
    "Pearson check:"
   ]
  },
  {
   "cell_type": "code",
   "execution_count": 50,
   "metadata": {},
   "outputs": [
    {
     "name": "stdout",
     "output_type": "stream",
     "text": [
      "[0.01831563888873418, 0.07326255555493671, 0.14652511110987343, 0.19536681481316456, 0.19536681481316456, 0.15629345185053165, 0.1041956345670211, 0.059540362609726345, 0.029770181304863173, 0.02136343448798428]\n",
      "[19, 72, 153, 193, 221, 151, 90, 43, 30, 28]\n",
      "chi_2 = 12.496990774330097, delta = 16.919\n"
     ]
    },
    {
     "data": {
      "text/plain": [
       "True"
      ]
     },
     "execution_count": 50,
     "metadata": {},
     "output_type": "execute_result"
    }
   ],
   "source": [
    "poisson_p = count_discrete_probabilities(poisson_random_values, probability_poisson_distribution, LAMBDA_VAL)\n",
    "poisson_frequencies = count_discrete_frequencies(poisson_random_values, K)\n",
    "\n",
    "print(poisson_p)\n",
    "print(poisson_frequencies)\n",
    "pearson(poisson_frequencies, poisson_p, n, K, delta_005_10)"
   ]
  },
  {
   "cell_type": "code",
   "execution_count": 51,
   "metadata": {},
   "outputs": [
    {
     "name": "stdout",
     "output_type": "stream",
     "text": [
      "[0.4880000000000001, 0.24985600000000008, 0.12792627200000006, 0.06549825126400004, 0.033535104647168024, 0.01716997357935003, 0.008791026472627219, 0.004501005553985136, 0.0023045148436403903, 0.0024178516392290295]\n",
      "[504, 254, 130, 51, 26, 14, 9, 7, 2, 3]\n",
      "chi_2 = 7.687339409279145, delta = 16.919\n"
     ]
    },
    {
     "data": {
      "text/plain": [
       "True"
      ]
     },
     "execution_count": 51,
     "metadata": {},
     "output_type": "execute_result"
    }
   ],
   "source": [
    "geometric_p_1 = count_discrete_probabilities(geometric_random_values_bernoulli, probability_geometric_distribution, p)\n",
    "geometric_frequencies_1 = count_discrete_frequencies(geometric_random_values_bernoulli, K)\n",
    "\n",
    "print(geometric_p_1)\n",
    "print(geometric_frequencies_1)\n",
    "pearson(geometric_frequencies_1, geometric_p_1, n, K, delta_005_10)"
   ]
  },
  {
   "cell_type": "code",
   "execution_count": 52,
   "metadata": {},
   "outputs": [
    {
     "name": "stdout",
     "output_type": "stream",
     "text": [
      "[0.36000000000000004, 0.23040000000000005, 0.14745600000000003, 0.09437184000000004, 0.06039797760000003, 0.03865470566400002, 0.02473901162496002, 0.015832967439974414, 0.010133099161583625, 0.018014398509481833]\n",
      "[375, 222, 140, 83, 61, 41, 29, 22, 8, 19]\n",
      "chi_2 = 6.465820361264483, delta = 16.919\n"
     ]
    },
    {
     "data": {
      "text/plain": [
       "True"
      ]
     },
     "execution_count": 52,
     "metadata": {},
     "output_type": "execute_result"
    }
   ],
   "source": [
    "geometric_p_2 = count_discrete_probabilities(geometric_random_values, probability_geometric_distribution, p)\n",
    "geometric_frequencies_2 = count_discrete_frequencies(geometric_random_values, K)\n",
    "\n",
    "print(geometric_p_2)\n",
    "print(geometric_frequencies_2)\n",
    "pearson(geometric_frequencies_2, geometric_p_2, n, K, delta_005_10)"
   ]
  }
 ],
 "metadata": {
  "kernelspec": {
   "display_name": "Python 3",
   "language": "python",
   "name": "python3"
  },
  "language_info": {
   "codemirror_mode": {
    "name": "ipython",
    "version": 3
   },
   "file_extension": ".py",
   "mimetype": "text/x-python",
   "name": "python",
   "nbconvert_exporter": "python",
   "pygments_lexer": "ipython3",
   "version": "3.6.8"
  }
 },
 "nbformat": 4,
 "nbformat_minor": 2
}
