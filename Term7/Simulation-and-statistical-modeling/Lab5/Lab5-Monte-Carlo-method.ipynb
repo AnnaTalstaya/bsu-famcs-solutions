{
 "cells": [
  {
   "cell_type": "markdown",
   "metadata": {},
   "source": [
    "1) Решить систему линейных алгебраических уравнений   методом Монте-Карло.  \n",
    "2) Сравнить с решением данного уравнения, полученным в произвольном математическом пакете.  \n",
    "3) Построить график зависимости точности решения от длины цепи маркова и числа смоделированных цепей маркова."
   ]
  },
  {
   "cell_type": "code",
   "execution_count": 1,
   "metadata": {},
   "outputs": [],
   "source": [
    "import numpy as np\n",
    "import random\n",
    "import matplotlib.pyplot as plt\n",
    "from math import sqrt\n",
    "\n",
    "from sklearn.metrics import mean_squared_error \n",
    "\n",
    "%matplotlib inline"
   ]
  },
  {
   "cell_type": "code",
   "execution_count": 2,
   "metadata": {},
   "outputs": [
    {
     "data": {
      "text/plain": [
       "array([[ 1. , -0.5,  0.9],\n",
       "       [ 0.1,  1.5, -0.1],\n",
       "       [ 0.1, -0.8,  0.2]])"
      ]
     },
     "execution_count": 2,
     "metadata": {},
     "output_type": "execute_result"
    }
   ],
   "source": [
    "A = np.array([[1, -0.5, 0.9],\n",
    "             [0.1, 1.5, -0.1],\n",
    "             [0.1, -0.8, 0.2]])\n",
    "A"
   ]
  },
  {
   "cell_type": "code",
   "execution_count": 3,
   "metadata": {},
   "outputs": [
    {
     "data": {
      "text/plain": [
       "array([ 1,  3, -1])"
      ]
     },
     "execution_count": 3,
     "metadata": {},
     "output_type": "execute_result"
    }
   ],
   "source": [
    "F = np.array([1, 3, -1])\n",
    "F"
   ]
  },
  {
   "cell_type": "markdown",
   "metadata": {},
   "source": [
    "Equation solution using **numpy.linalg.solve**"
   ]
  },
  {
   "cell_type": "code",
   "execution_count": 4,
   "metadata": {},
   "outputs": [
    {
     "data": {
      "text/plain": [
       "array([-12.14285714,   3.92857143,  16.78571429])"
      ]
     },
     "execution_count": 4,
     "metadata": {},
     "output_type": "execute_result"
    }
   ],
   "source": [
    "python_solution = np.linalg.solve(A,F)\n",
    "python_solution"
   ]
  },
  {
   "cell_type": "markdown",
   "metadata": {},
   "source": [
    "Преобразуем матрицу A так, что бы    \n",
    "1) при вычитании этой матрицы из единичной матрицы, сумма модулей коэффициентов в каждой строке была < 1  \n",
    "2) каждое значение x,y,z выражалось через все остальные (вычитаем матрицу из единичной)"
   ]
  },
  {
   "cell_type": "code",
   "execution_count": 5,
   "metadata": {},
   "outputs": [],
   "source": [
    "a = np.copy(A)\n",
    "f = np.copy(F)"
   ]
  },
  {
   "cell_type": "code",
   "execution_count": 6,
   "metadata": {},
   "outputs": [],
   "source": [
    "a[1] += a[2] * 2\n",
    "f[1] += f[2] * 2\n",
    "\n",
    "a[0] -= a[1] * 2\n",
    "f[0] -= f[1] * 2\n",
    "\n",
    "a[0] -= a[1]\n",
    "f[0] -= f[1]\n",
    "\n",
    "a[2] -= a[0] * 4\n",
    "f[2] -= f[0] * 4\n",
    "\n",
    "a[1] += a[2]\n",
    "f[1] += f[2]\n",
    "\n",
    "a[[0, 1]] = a[[1, 0]]\n",
    "f[[0, 1]] = f[[1, 0]]\n",
    "\n",
    "a[[0, 2]] = a[[2, 0]]\n",
    "f[[0, 2]] = f[[2, 0]]\n",
    "\n",
    "a[0] *= -1\n",
    "f[0] *= -1\n",
    "\n",
    "a[1] *= -1\n",
    "f[1] *= -1"
   ]
  },
  {
   "cell_type": "code",
   "execution_count": 7,
   "metadata": {},
   "outputs": [
    {
     "data": {
      "text/plain": [
       "array([[ 7.00000000e-01, -1.11022302e-15,  2.00000000e-01],\n",
       "       [ 1.00000000e-01,  8.00000000e-01, -1.11022302e-16],\n",
       "       [-5.55111512e-16,  1.00000000e-01,  5.00000000e-01]])"
      ]
     },
     "execution_count": 7,
     "metadata": {},
     "output_type": "execute_result"
    }
   ],
   "source": [
    "a = np.eye(len(a)) - a #2)\n",
    "a"
   ]
  },
  {
   "cell_type": "code",
   "execution_count": 8,
   "metadata": {},
   "outputs": [],
   "source": [
    "#моделируем реализацию цепи Маркова длины N\n",
    "def count_ksi(N, A, f, h, pi, p):\n",
    "    #N - длина цепи Маркова\n",
    "    #pi - вектор начальных вероятностей цепи Маркова\n",
    "    #p - матрица переходных состояний(вероятностей) цепи Маркова\n",
    "        \n",
    "    #цепь Маркова\n",
    "    i = []\n",
    "    \n",
    "    alpha = random.random()\n",
    "\n",
    "    #index of state that will be implemented\n",
    "    ind_state = 0\n",
    "    sum_state = pi[0]\n",
    "    while alpha >= sum_state:\n",
    "        ind_state += 1\n",
    "        sum_state += pi[ind_state]\n",
    "    i.append(ind_state)\n",
    "    \n",
    "    #Веса состояний цепи Маркова\n",
    "    Q = []\n",
    "\n",
    "    #Вычисляем веса цепи Маркова\n",
    "    if(pi[i[0]] > 0):\n",
    "        Q.append(h[i[0]] / pi[i[0]])\n",
    "    else: #pi[i[0]] = 0\n",
    "        Q.append(0)\n",
    "    \n",
    "    ksi = Q[0] * f[i[0]]\n",
    "\n",
    "    for k in range(1, N):\n",
    "        alpha = random.random()\n",
    "        \n",
    "        #index of state that will be implemented\n",
    "        ind_state = 0\n",
    "        sum_state = pi[0]\n",
    "        while alpha >= sum_state:\n",
    "            ind_state += 1\n",
    "            sum_state += pi[ind_state]\n",
    "        i.append(ind_state)\n",
    "        \n",
    "        if(pi[i[k]] > 0):\n",
    "            Q.append(Q[k-1] * a[i[k-1], i[k]] / p[i[k-1]][i[k]])\n",
    "        else:\n",
    "            Q.append(0)\n",
    " \n",
    "        ksi += Q[k] * f[i[k]]\n",
    "    \n",
    "    return ksi"
   ]
  },
  {
   "cell_type": "code",
   "execution_count": 9,
   "metadata": {},
   "outputs": [],
   "source": [
    "def linalg_monte_carlo(a, f, N, m):\n",
    "    #N - длина цепи Маркова\n",
    "    #m - количество реализаций цепи Маркова\n",
    "    \n",
    "    #размерность системы\n",
    "    n = len(A)\n",
    "    \n",
    "    #решение системы\n",
    "    x = np.zeros(n)\n",
    "    \n",
    "    h = np.identity(n)\n",
    "    \n",
    "    #вектор начальных вероятностей цепи Маркова\n",
    "    pi = [1 / n] * n\n",
    "    \n",
    "    #матрица переходных состояний(вероятностей) цепи Маркова\n",
    "    p = [[1 / n] * n for _ in range(n)]\n",
    "\n",
    "    for j in range(n):\n",
    "        x[j] = sum(count_ksi(N, a, f, h[:, j], pi, p) for _ in range(m)) / m\n",
    "        \n",
    "    print(x)\n",
    "    \n",
    "    return x"
   ]
  },
  {
   "cell_type": "code",
   "execution_count": 10,
   "metadata": {},
   "outputs": [],
   "source": [
    "def plot(x, y, x_label, y_label):\n",
    "    plt.plot(x, y)\n",
    "\n",
    "    plt.xlabel(x_label)\n",
    "    plt.ylabel(y_label)\n",
    "    plt.show()"
   ]
  },
  {
   "cell_type": "code",
   "execution_count": 19,
   "metadata": {},
   "outputs": [],
   "source": [
    "NN = [200, 800, 1000, 1500, 2000, 3000, 4000, 5000, 6000]\n",
    "M = [200, 800, 1000, 1500, 2000, 3000, 4000]"
   ]
  },
  {
   "cell_type": "code",
   "execution_count": 15,
   "metadata": {},
   "outputs": [
    {
     "name": "stdout",
     "output_type": "stream",
     "text": [
      "[-13.91371888   0.63429718  15.04990906]\n",
      "[-7.63069171  1.05004832 13.76039219]\n",
      "[-6.59021961  4.83659881 19.08671547]\n",
      "[-12.4486248    3.28969159  16.55475604]\n",
      "[-10.26093015   1.27473647  16.87535113]\n",
      "[-9.66460173  6.68449923 15.67167879]\n",
      "[-12.636548     4.11991095  17.83361952]\n"
     ]
    },
    {
     "data": {
      "image/png": "[encoded data removed]",
      "text/plain": [
       "<Figure size 432x288 with 1 Axes>"
      ]
     },
     "metadata": {
      "needs_background": "light"
     },
     "output_type": "display_data"
    }
   ],
   "source": [
    "answers_N_fixed = [linalg_monte_carlo(a, f, 1500, i) for i in M]\n",
    "\n",
    "mse_N_fixed = []\n",
    "\n",
    "for answer in answers_N_fixed:\n",
    "    mse_N_fixed.append(mean_squared_error(python_solution, answer))\n",
    "\n",
    "plot(M, mse_N_fixed, \"m\", \"MSE\")"
   ]
  },
  {
   "cell_type": "code",
   "execution_count": 22,
   "metadata": {},
   "outputs": [
    {
     "name": "stdout",
     "output_type": "stream",
     "text": [
      "[-11.39858648   3.18060967  17.40056605]\n",
      "[-22.27704743   8.28370266  18.16732529]\n",
      "[-9.88815253  2.09881081 16.03331735]\n",
      "[-10.12515864   4.05862441  18.77785931]\n",
      "[-9.19393739  3.57435338 16.31984227]\n",
      "[-12.59914522   2.3984019   16.78782329]\n",
      "[-10.97340648   5.85236865  18.24526812]\n",
      "[-10.64474706   2.26318743  21.16849775]\n",
      "[-9.62042151  2.31372139 16.54307569]\n"
     ]
    },
    {
     "data": {
      "image/png": "[encoded data removed]",
      "text/plain": [
       "<Figure size 432x288 with 1 Axes>"
      ]
     },
     "metadata": {
      "needs_background": "light"
     },
     "output_type": "display_data"
    }
   ],
   "source": [
    "answers_m_fixed = [linalg_monte_carlo(a, f, i, 1500) for i in NN]\n",
    "\n",
    "mse_m_fixed = []\n",
    "\n",
    "for answer in answers_m_fixed:\n",
    "    mse_m_fixed.append(mean_squared_error(python_solution, answer))\n",
    "\n",
    "plot(NN, mse_m_fixed, \"N\", \"MSE\")"
   ]
  }
 ],
 "metadata": {
  "kernelspec": {
   "display_name": "Python 3",
   "language": "python",
   "name": "python3"
  },
  "language_info": {
   "codemirror_mode": {
    "name": "ipython",
    "version": 3
   },
   "file_extension": ".py",
   "mimetype": "text/x-python",
   "name": "python",
   "nbconvert_exporter": "python",
   "pygments_lexer": "ipython3",
   "version": "3.6.8"
  }
 },
 "nbformat": 4,
 "nbformat_minor": 2
}
