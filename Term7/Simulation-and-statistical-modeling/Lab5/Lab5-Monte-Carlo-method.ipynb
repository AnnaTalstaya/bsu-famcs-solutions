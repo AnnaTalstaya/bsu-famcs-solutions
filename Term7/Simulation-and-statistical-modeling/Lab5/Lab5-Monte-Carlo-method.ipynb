{
 "cells": [
  {
   "cell_type": "markdown",
   "metadata": {},
   "source": [
    "1) Решить систему линейных алгебраических уравнений   методом Монте-Карло.  \n",
    "2) Сравнить с решением данного уравнения, полученным в произвольном математическом пакете.  \n",
    "3) Построить график зависимости точности решения от длины цепи маркова и числа смоделированных цепей маркова."
   ]
  },
  {
   "cell_type": "code",
   "execution_count": 15,
   "metadata": {},
   "outputs": [],
   "source": [
    "import numpy as np\n",
    "import random\n",
    "import matplotlib.pyplot as plt\n",
    "from math import sqrt\n",
    "\n",
    "from sklearn.metrics import mean_squared_error \n",
    "from numpy.linalg import norm\n",
    "\n",
    "%matplotlib inline"
   ]
  },
  {
   "cell_type": "code",
   "execution_count": 58,
   "metadata": {},
   "outputs": [
    {
     "data": {
      "text/plain": [
       "array([[ 0.7, -0.2,  0.3],\n",
       "       [ 0.4,  1.3,  0.1],\n",
       "       [ 0.2,  0.1,  1.1]])"
      ]
     },
     "execution_count": 58,
     "metadata": {},
     "output_type": "execute_result"
    }
   ],
   "source": [
    "A = np.array([[0.7, -0.2, 0.3],\n",
    "             [0.4, 1.3, 0.1],\n",
    "             [0.2, 0.1, 1.1]])\n",
    "A"
   ]
  },
  {
   "cell_type": "code",
   "execution_count": 59,
   "metadata": {},
   "outputs": [
    {
     "data": {
      "text/plain": [
       "array([3, 1, 1])"
      ]
     },
     "execution_count": 59,
     "metadata": {},
     "output_type": "execute_result"
    }
   ],
   "source": [
    "f = np.array([3,1,1])\n",
    "f"
   ]
  },
  {
   "cell_type": "markdown",
   "metadata": {},
   "source": [
    "Equation solution using **numpy.linalg.solve**"
   ]
  },
  {
   "cell_type": "code",
   "execution_count": 60,
   "metadata": {},
   "outputs": [
    {
     "data": {
      "text/plain": [
       "array([ 4.0513834 , -0.49407115,  0.2173913 ])"
      ]
     },
     "execution_count": 60,
     "metadata": {},
     "output_type": "execute_result"
    }
   ],
   "source": [
    "python_solution = np.linalg.solve(A,f)\n",
    "python_solution"
   ]
  },
  {
   "cell_type": "code",
   "execution_count": 61,
   "metadata": {},
   "outputs": [
    {
     "data": {
      "text/plain": [
       "array([[ 0.3,  0.2, -0.3],\n",
       "       [-0.4, -0.3, -0.1],\n",
       "       [-0.2, -0.1, -0.1]])"
      ]
     },
     "execution_count": 61,
     "metadata": {},
     "output_type": "execute_result"
    }
   ],
   "source": [
    "a = np.eye(len(A)) - A\n",
    "a"
   ]
  },
  {
   "cell_type": "code",
   "execution_count": 34,
   "metadata": {},
   "outputs": [],
   "source": [
    "#моделируем реализацию цепи Маркова длины N\n",
    "def count_ksi(N, A, f, h, pi, p):\n",
    "    #N - длина цепи Маркова\n",
    "    #pi - вектор начальных вероятностей цепи Маркова\n",
    "    #p - матрица переходных состояний(вероятностей) цепи Маркова\n",
    "        \n",
    "    #цепь Маркова\n",
    "    i = []\n",
    "    \n",
    "    alpha = random.random()\n",
    "\n",
    "    #index of state that will be implemented\n",
    "    ind_state = 0\n",
    "    sum_state = pi[0]\n",
    "    while alpha >= sum_state:\n",
    "        ind_state += 1\n",
    "        sum_state += pi[ind_state]\n",
    "    i.append(ind_state)\n",
    "    \n",
    "    #Веса состояний цепи Маркова\n",
    "    Q = []\n",
    "\n",
    "    #Вычисляем веса цепи Маркова\n",
    "    if(pi[i[0]] > 0):\n",
    "        Q.append(h[i[0]] / pi[i[0]])\n",
    "    else: #pi[i[0]] = 0\n",
    "        Q.append(0)\n",
    "    \n",
    "    ksi = Q[0] * f[i[0]]\n",
    "\n",
    "    for k in range(1, N):\n",
    "        alpha = random.random()\n",
    "        \n",
    "        #index of state that will be implemented\n",
    "        ind_state = 0\n",
    "        sum_state = pi[0]\n",
    "        while alpha >= sum_state:\n",
    "            ind_state += 1\n",
    "            sum_state += pi[ind_state]\n",
    "        i.append(ind_state)\n",
    "        \n",
    "        if(pi[i[k]] > 0):\n",
    "            Q.append(Q[k-1] * a[i[k-1], i[k]] / p[i[k-1]][i[k]])\n",
    "        else:\n",
    "            Q.append(0)\n",
    " \n",
    "        ksi += Q[k] * f[i[k]]\n",
    "    \n",
    "    return ksi"
   ]
  },
  {
   "cell_type": "code",
   "execution_count": 35,
   "metadata": {},
   "outputs": [],
   "source": [
    "def linalg_monte_carlo(a, f, N, m):\n",
    "    #N - длина цепи Маркова\n",
    "    #m - количество реализаций цепи Маркова\n",
    "    \n",
    "    #размерность системы\n",
    "    n = len(A)\n",
    "    \n",
    "    #решение системы\n",
    "    x = np.zeros(n)\n",
    "    \n",
    "    h = np.identity(n)\n",
    "    \n",
    "    #вектор начальных вероятностей цепи Маркова\n",
    "    pi = [1 / n] * n\n",
    "    \n",
    "    #матрица переходных состояний(вероятностей) цепи Маркова\n",
    "    p = [[1 / n] * n for _ in range(n)]\n",
    "\n",
    "    for j in range(n):\n",
    "        x[j] = sum(count_ksi(N, a, f, h[:, j], pi, p) for _ in range(m)) / m\n",
    "        \n",
    "    print(x)\n",
    "    \n",
    "    return x"
   ]
  },
  {
   "cell_type": "code",
   "execution_count": 64,
   "metadata": {},
   "outputs": [],
   "source": [
    "def mse(x, y):\n",
    "    assert len(x) == len(y)\n",
    "    return sum([(x[i] - y[i]) ** 2  for i in range(len(x))])"
   ]
  },
  {
   "cell_type": "code",
   "execution_count": 36,
   "metadata": {},
   "outputs": [],
   "source": [
    "def plot(x, y, x_label, y_label):\n",
    "    plt.plot(x, y)\n",
    "\n",
    "    plt.xlabel(x_label)\n",
    "    plt.ylabel(y_label)\n",
    "    plt.show()"
   ]
  },
  {
   "cell_type": "code",
   "execution_count": 64,
   "metadata": {},
   "outputs": [],
   "source": [
    "NN = [1, 200, 800, 1000, 1500, 2000]\n",
    "M = [1, 200, 800, 1000, 1500, 2000]"
   ]
  },
  {
   "cell_type": "code",
   "execution_count": 62,
   "metadata": {},
   "outputs": [
    {
     "name": "stdout",
     "output_type": "stream",
     "text": [
      "[0. 0. 0.]\n",
      "[ 4.03150801 -0.31522244  0.13506599]\n",
      "[ 4.09251417 -0.41218698  0.2144181 ]\n",
      "[ 3.88276088 -0.38533972  0.16595821]\n",
      "[ 3.99018229 -0.64352208  0.35737564]\n",
      "[ 4.0325707  -0.37086396  0.13326957]\n"
     ]
    },
    {
     "data": {
      "image/png": "[encoded data removed]",
      "text/plain": [
       "<Figure size 432x288 with 1 Axes>"
      ]
     },
     "metadata": {
      "needs_background": "light"
     },
     "output_type": "display_data"
    }
   ],
   "source": [
    "answers_N_fixed = [linalg_monte_carlo(a, f, 2000, i) for i in M]\n",
    "\n",
    "norm_N_fixed = []\n",
    "\n",
    "for j in answers_N_fixed:\n",
    "    norm = .0\n",
    "    for i in range(3):\n",
    "        norm += (python_solution[i] - j[i])**2\n",
    "    norm = sqrt(norm)\n",
    "    norm_N_fixed.append(norm)\n",
    "\n",
    "plot(M, norm_N_fixed, \"m\", \"Norm\")"
   ]
  },
  {
   "cell_type": "code",
   "execution_count": 65,
   "metadata": {},
   "outputs": [
    {
     "name": "stdout",
     "output_type": "stream",
     "text": [
      "[3.0735 1.032  1.011 ]\n",
      "[ 3.99008936 -0.57483871  0.28671878]\n",
      "[ 4.04086587 -0.58704641  0.29803731]\n",
      "[ 3.83587987 -0.40685103  0.09282256]\n",
      "[ 4.01195006 -0.30070645  0.28491515]\n",
      "[ 3.87811942 -0.33083878  0.17692899]\n"
     ]
    },
    {
     "data": {
      "image/png": "[encoded data removed]",
      "text/plain": [
       "<Figure size 432x288 with 1 Axes>"
      ]
     },
     "metadata": {
      "needs_background": "light"
     },
     "output_type": "display_data"
    }
   ],
   "source": [
    "answers_m_fixed = [linalg_monte_carlo(a, f, i, 2000) for i in NN]\n",
    "\n",
    "norm_m_fixed = []\n",
    "\n",
    "for j in answers_m_fixed:\n",
    "    norm = .0\n",
    "    for i in range(3):\n",
    "        norm += (python_solution[i] - j[i])**2\n",
    "    norm = sqrt(norm)\n",
    "    norm_m_fixed.append(norm)\n",
    "\n",
    "plot(NN, norm_m_fixed, \"N\", \"Norm\")"
   ]
  },
  {
   "cell_type": "code",
   "execution_count": null,
   "metadata": {},
   "outputs": [],
   "source": []
  }
 ],
 "metadata": {
  "kernelspec": {
   "display_name": "Python 3",
   "language": "python",
   "name": "python3"
  },
  "language_info": {
   "codemirror_mode": {
    "name": "ipython",
    "version": 3
   },
   "file_extension": ".py",
   "mimetype": "text/x-python",
   "name": "python",
   "nbconvert_exporter": "python",
   "pygments_lexer": "ipython3",
   "version": "3.6.8"
  }
 },
 "nbformat": 4,
 "nbformat_minor": 2
}
