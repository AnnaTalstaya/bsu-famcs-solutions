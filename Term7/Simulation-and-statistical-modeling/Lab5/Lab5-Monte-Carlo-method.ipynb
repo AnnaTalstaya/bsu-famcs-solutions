{
 "cells": [
  {
   "cell_type": "markdown",
   "metadata": {},
   "source": [
    "1) Решить систему линейных алгебраических уравнений   методом Монте-Карло.  \n",
    "2) Сравнить с решением данного уравнения, полученным в произвольном математическом пакете.  \n",
    "3) Построить график зависимости точности решения от длины цепи маркова и числа смоделированных цепей маркова."
   ]
  },
  {
   "cell_type": "code",
   "execution_count": 121,
   "metadata": {},
   "outputs": [],
   "source": [
    "import numpy as np\n",
    "import random\n",
    "import matplotlib.pyplot as plt\n",
    "from math import sqrt\n",
    "\n",
    "from sklearn.metrics import mean_squared_error \n",
    "from numpy.linalg import norm\n",
    "\n",
    "%matplotlib inline"
   ]
  },
  {
   "cell_type": "code",
   "execution_count": 56,
   "metadata": {},
   "outputs": [
    {
     "data": {
      "text/plain": [
       "array([[ 1. , -0.5,  0.9],\n",
       "       [ 0.1,  1.5, -0.1],\n",
       "       [ 0.1, -0.8,  0.2]])"
      ]
     },
     "execution_count": 56,
     "metadata": {},
     "output_type": "execute_result"
    }
   ],
   "source": [
    "A = np.array([[1, -0.5, 0.9],\n",
    "             [0.1, 1.5, -0.1],\n",
    "             [0.1, -0.8, 0.2]])\n",
    "A"
   ]
  },
  {
   "cell_type": "code",
   "execution_count": 57,
   "metadata": {},
   "outputs": [
    {
     "data": {
      "text/plain": [
       "array([ 1,  3, -1])"
      ]
     },
     "execution_count": 57,
     "metadata": {},
     "output_type": "execute_result"
    }
   ],
   "source": [
    "f = np.array([1, 3, -1])\n",
    "f"
   ]
  },
  {
   "cell_type": "markdown",
   "metadata": {},
   "source": [
    "Equation solution using **numpy.linalg.solve**"
   ]
  },
  {
   "cell_type": "code",
   "execution_count": 58,
   "metadata": {},
   "outputs": [
    {
     "data": {
      "text/plain": [
       "array([-12.14285714,   3.92857143,  16.78571429])"
      ]
     },
     "execution_count": 58,
     "metadata": {},
     "output_type": "execute_result"
    }
   ],
   "source": [
    "python_solution = np.linalg.solve(A,f)\n",
    "python_solution"
   ]
  },
  {
   "cell_type": "code",
   "execution_count": 59,
   "metadata": {},
   "outputs": [
    {
     "data": {
      "text/plain": [
       "array([[ 0. ,  0.5, -0.9],\n",
       "       [-0.1, -0.5,  0.1],\n",
       "       [-0.1,  0.8,  0.8]])"
      ]
     },
     "execution_count": 59,
     "metadata": {},
     "output_type": "execute_result"
    }
   ],
   "source": [
    "a = np.eye(len(A)) - A\n",
    "a"
   ]
  },
  {
   "cell_type": "code",
   "execution_count": 60,
   "metadata": {},
   "outputs": [],
   "source": [
    "#моделируем реализацию цепи Маркова длины N\n",
    "def count_ksi(N, A, f, h, pi, p):\n",
    "    #N - длина цепи Маркова\n",
    "    #pi - вектор начальных вероятностей цепи Маркова\n",
    "    #p - матрица переходных состояний(вероятностей) цепи Маркова\n",
    "        \n",
    "    #цепь Маркова\n",
    "    i = []\n",
    "    \n",
    "    alpha = random.random()\n",
    "\n",
    "    #index of state that will be implemented\n",
    "    ind_state = 0\n",
    "    sum_state = pi[0]\n",
    "    while alpha >= sum_state:\n",
    "        ind_state += 1\n",
    "        sum_state += pi[ind_state]\n",
    "    i.append(ind_state)\n",
    "    \n",
    "    #Веса состояний цепи Маркова\n",
    "    Q = []\n",
    "\n",
    "    #Вычисляем веса цепи Маркова\n",
    "    if(pi[i[0]] > 0):\n",
    "        Q.append(h[i[0]] / pi[i[0]])\n",
    "    else: #pi[i[0]] = 0\n",
    "        Q.append(0)\n",
    "    \n",
    "    ksi = Q[0] * f[i[0]]\n",
    "\n",
    "    for k in range(1, N):\n",
    "        alpha = random.random()\n",
    "        \n",
    "        #index of state that will be implemented\n",
    "        ind_state = 0\n",
    "        sum_state = pi[0]\n",
    "        while alpha >= sum_state:\n",
    "            ind_state += 1\n",
    "            sum_state += pi[ind_state]\n",
    "        i.append(ind_state)\n",
    "        \n",
    "        if(pi[i[k]] > 0):\n",
    "            Q.append(Q[k-1] * a[i[k-1], i[k]] / p[i[k-1]][i[k]])\n",
    "        else:\n",
    "            Q.append(0)\n",
    " \n",
    "        ksi += Q[k] * f[i[k]]\n",
    "    \n",
    "    return ksi"
   ]
  },
  {
   "cell_type": "code",
   "execution_count": 61,
   "metadata": {},
   "outputs": [],
   "source": [
    "def linalg_monte_carlo(a, f, N, m):\n",
    "    #N - длина цепи Маркова\n",
    "    #m - количество реализаций цепи Маркова\n",
    "    \n",
    "    #размерность системы\n",
    "    n = len(A)\n",
    "    \n",
    "    #решение системы\n",
    "    x = np.zeros(n)\n",
    "    \n",
    "    h = np.identity(n)\n",
    "    \n",
    "    #вектор начальных вероятностей цепи Маркова\n",
    "    pi = [1 / n] * n\n",
    "    \n",
    "    #матрица переходных состояний(вероятностей) цепи Маркова\n",
    "    p = [[1 / n] * n for _ in range(n)]\n",
    "\n",
    "    for j in range(n):\n",
    "        x[j] = sum(count_ksi(N, a, f, h[:, j], pi, p) for _ in range(m)) / m\n",
    "    \n",
    "    return x"
   ]
  },
  {
   "cell_type": "code",
   "execution_count": 64,
   "metadata": {},
   "outputs": [],
   "source": [
    "def mse(x, y):\n",
    "    assert len(x) == len(y)\n",
    "    return sum([(x[i] - y[i]) ** 2  for i in range(len(x))])"
   ]
  },
  {
   "cell_type": "code",
   "execution_count": 131,
   "metadata": {},
   "outputs": [],
   "source": [
    "def plot(x, y, x_label, y_label):\n",
    "    plt.plot(x, y)\n",
    "\n",
    "    plt.xlabel(x_label)\n",
    "    plt.ylabel(y_label)\n",
    "    plt.show()"
   ]
  },
  {
   "cell_type": "code",
   "execution_count": 127,
   "metadata": {},
   "outputs": [],
   "source": [
    "NN = [1, 200, 800, 1000]\n",
    "M = [1, 200, 800, 1000, 1500, 2000]"
   ]
  },
  {
   "cell_type": "code",
   "execution_count": 133,
   "metadata": {},
   "outputs": [
    {
     "data": {
      "image/png": "[encoded data removed]",
      "text/plain": [
       "<Figure size 432x288 with 1 Axes>"
      ]
     },
     "metadata": {
      "needs_background": "light"
     },
     "output_type": "display_data"
    }
   ],
   "source": [
    "answers_N_fixed = [linalg_monte_carlo(a, f, NN[3], i) for i in M]\n",
    "\n",
    "norm_N_fixed = []\n",
    "\n",
    "for j in answers_N_fixed:\n",
    "    norm = .0\n",
    "    for i in range(3):\n",
    "        norm += (python_solution[i] - j[i])**2\n",
    "    norm = sqrt(norm)\n",
    "    norm_N_fixed.append(norm)\n",
    "\n",
    "plot(M, norm_N_fixed, \"m\", \"Norm\")"
   ]
  },
  {
   "cell_type": "code",
   "execution_count": 135,
   "metadata": {},
   "outputs": [
    {
     "data": {
      "image/png": "[encoded data removed]",
      "text/plain": [
       "<Figure size 432x288 with 1 Axes>"
      ]
     },
     "metadata": {
      "needs_background": "light"
     },
     "output_type": "display_data"
    }
   ],
   "source": [
    "answers_m_fixed = [linalg_monte_carlo(a, f, i, M[3]) for i in NN]\n",
    "\n",
    "norm_m_fixed = []\n",
    "\n",
    "for j in answers_m_fixed:\n",
    "    norm = .0\n",
    "    for i in range(3):\n",
    "        norm += (python_solution[i] - j[i])**2\n",
    "    norm = sqrt(norm)\n",
    "    norm_m_fixed.append(norm)\n",
    "\n",
    "plot(NN, norm_m_fixed, \"N\", \"Norm\")"
   ]
  }
 ],
 "metadata": {
  "kernelspec": {
   "display_name": "Python 3",
   "language": "python",
   "name": "python3"
  },
  "language_info": {
   "codemirror_mode": {
    "name": "ipython",
    "version": 3
   },
   "file_extension": ".py",
   "mimetype": "text/x-python",
   "name": "python",
   "nbconvert_exporter": "python",
   "pygments_lexer": "ipython3",
   "version": "3.6.8"
  }
 },
 "nbformat": 4,
 "nbformat_minor": 2
}
