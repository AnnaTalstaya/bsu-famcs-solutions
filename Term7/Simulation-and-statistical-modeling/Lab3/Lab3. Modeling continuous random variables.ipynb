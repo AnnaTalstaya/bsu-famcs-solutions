{
 "cells": [
  {
   "cell_type": "code",
   "execution_count": 1,
   "metadata": {},
   "outputs": [],
   "source": [
    "from random import random\n",
    "from math import log, exp, erf, sqrt\n",
    "import numpy as np\n",
    "import matplotlib.pyplot as plt\n",
    "from bisect import bisect_right\n",
    "%matplotlib inline"
   ]
  },
  {
   "cell_type": "markdown",
   "metadata": {},
   "source": [
    "#### Task1. Осуществить моделирование n = 1000 реализаций СВ из нормального закона распределения N(m, $s^2$) с заданными параметрами. Вычислить несмещенные оценки математического ожидания и дисперсии, сравнить их с истинными."
   ]
  },
  {
   "cell_type": "markdown",
   "metadata": {},
   "source": [
    "Задача моделирования $\\xi \\sim N(\\mu, \\sigma^2)$   сводится к моделированию стандартной гаусовской СВ $\\eta$  и применению формулы: $$\\xi=\\mu + \\sigma \\cdot \\eta$$ "
   ]
  },
  {
   "cell_type": "markdown",
   "metadata": {},
   "source": [
    "Алгоритм моделирования $\\eta \\sim N(0,1)$:\n",
    "* моделирование N = 12 реализаций $a_1,...,a_{12}$ БСВ;\n",
    "* принятие решения о том, что реализацией СВ $\\eta$ является величина x, равная $$x=\\sum_{i=1}^{12}a_i - 6$$"
   ]
  },
  {
   "cell_type": "markdown",
   "metadata": {},
   "source": [
    "Cumulative distribution function of gauss distribution: $$F_{\\xi}(x) = \\frac{1}{2} (1 + erf\\left(\\frac{x - \\mu}{\\sigma \\sqrt{2}}\\right) ),$$ erf - error function of Laplace"
   ]
  },
  {
   "cell_type": "code",
   "execution_count": 2,
   "metadata": {},
   "outputs": [],
   "source": [
    "n = 1000\n",
    "m = 1\n",
    "s_2 = 9"
   ]
  },
  {
   "cell_type": "code",
   "execution_count": 3,
   "metadata": {},
   "outputs": [],
   "source": [
    "def standard_gauss_modeling():\n",
    "    return sum([random() for _ in range(12)]) - 6"
   ]
  },
  {
   "cell_type": "code",
   "execution_count": 4,
   "metadata": {},
   "outputs": [],
   "source": [
    "def get_gauss_val(m, s):\n",
    "     return m + s * standard_gauss_modeling()"
   ]
  },
  {
   "cell_type": "code",
   "execution_count": 5,
   "metadata": {},
   "outputs": [],
   "source": [
    "def gauss_distribution_modeling(m, s, n):\n",
    "    for _ in range(n):\n",
    "        yield get_gauss_val(m, s)"
   ]
  },
  {
   "cell_type": "code",
   "execution_count": 6,
   "metadata": {},
   "outputs": [],
   "source": [
    "def gauss_cdf(mu, s, x):\n",
    "    return 0.5 * (1 + erf((x - mu) / (s * sqrt(2))))"
   ]
  },
  {
   "cell_type": "code",
   "execution_count": 7,
   "metadata": {},
   "outputs": [],
   "source": [
    "gauss_seq = list(gauss_distribution_modeling(m, s_2 ** 0.5, n))"
   ]
  },
  {
   "cell_type": "code",
   "execution_count": 8,
   "metadata": {},
   "outputs": [
    {
     "data": {
      "text/plain": [
       "Text(0, 0.5, '$pdf$')"
      ]
     },
     "execution_count": 8,
     "metadata": {},
     "output_type": "execute_result"
    },
    {
     "data": {
      "image/png": "[encoded data removed]",
      "text/plain": [
       "<Figure size 432x288 with 1 Axes>"
      ]
     },
     "metadata": {
      "needs_background": "light"
     },
     "output_type": "display_data"
    }
   ],
   "source": [
    "plt.hist(gauss_seq, bins = 20, density=True)\n",
    "\n",
    "plt.title('Gauss probability distribution function')\n",
    "plt.xlabel('$x$')\n",
    "plt.ylabel('$pdf$')"
   ]
  },
  {
   "cell_type": "markdown",
   "metadata": {},
   "source": [
    "Unbiased estimate of mathematical expectation of random variable:\n",
    "$$Unbiased\\_estimate\\_of\\_math\\_expectation = \\frac{ \\sum_{i=1}^n X_i }{ n }$$"
   ]
  },
  {
   "cell_type": "markdown",
   "metadata": {},
   "source": [
    "Unbiased variance estimate:\n",
    "$$Unbiased\\_variance\\_estimate=\\frac{ \\sum_{i=1}^n (X_i - Unbiased\\_estimate\\_of\\_math\\_expectation)^{2}}{ n-1 }$$"
   ]
  },
  {
   "cell_type": "code",
   "execution_count": 9,
   "metadata": {},
   "outputs": [],
   "source": [
    "#count unbiased estimate of math expectation\n",
    "def uemef(random_var_seq):\n",
    "    return sum(random_var_seq) / len(random_var_seq)"
   ]
  },
  {
   "cell_type": "code",
   "execution_count": 10,
   "metadata": {},
   "outputs": [],
   "source": [
    "#count unbiased variance estimate\n",
    "def uvef(random_var_seq, ueme):\n",
    "    n = len(random_var_seq)\n",
    "    return sum((rand_var - ueme)**2 for rand_var in random_var_seq) / (n - 1)"
   ]
  },
  {
   "cell_type": "code",
   "execution_count": 11,
   "metadata": {},
   "outputs": [
    {
     "name": "stdout",
     "output_type": "stream",
     "text": [
      "Gauss distribution\n",
      "Theoretic : E = 1, D = 9\n",
      "Actual : E = 0.8819586614230099, D = 8.97382620262387\n"
     ]
    }
   ],
   "source": [
    "print(\"Gauss distribution\")\n",
    "print(\"Theoretic : E = {}, D = {}\".format(m, s_2))\n",
    "print(\"Actual : E = {}, D = {}\".format(uemef(gauss_seq), uvef(gauss_seq, uemef(gauss_seq))))"
   ]
  },
  {
   "cell_type": "markdown",
   "metadata": {},
   "source": [
    "#### Task2. Смоделировать n = 1000 СВ из заданных абсолютно непрерывных распределений. Вычислить несмещенные оценки математического ожидания и дисперсии, сравнить их с истинными значениями (если это возможно)."
   ]
  },
  {
   "cell_type": "code",
   "execution_count": 12,
   "metadata": {},
   "outputs": [],
   "source": [
    "m = 1\n",
    "s_2 = 9"
   ]
  },
  {
   "cell_type": "markdown",
   "metadata": {},
   "source": [
    "### Логнормальное распределение\n",
    "Алгоритм моделирования $\\xi\\sim LN(m, \\sigma)$ основан на методе функциональных преобразований и состоит из следующих шагов:\n",
    "1.\tМоделирование z реализации стандартной гаусовской СВ.\n",
    "2.\tПолучение $y$ реализацией СВ $\\eta\\sim N(\\mu,\\sigma^2)$ (где $\\mu=\\ln{m}$) по формуле: $$y=\\mu + \\sigma \\cdot z$$\n",
    "3. Вычисление реализации x СВ $\\xi\\sim LN(m, \\sigma)$ по формуле: $$x=exp\\{y\\}$$"
   ]
  },
  {
   "cell_type": "markdown",
   "metadata": {},
   "source": [
    "Mathematical expectation and variance of lognormal distribution: $$E_{\\xi}=m\\sqrt{e^{\\sigma^2}}$$ $$D_{\\xi}=m^2e^{\\sigma^2}(e^{\\sigma^2}-1)$$"
   ]
  },
  {
   "cell_type": "markdown",
   "metadata": {},
   "source": [
    "Cumulative distribution function of lognormal distribution: $$F_{\\xi}(x) = \\frac{1}{2} + \\frac{1}{2} erf\\left(\\frac{\\ln(x) - \\ln(\\mu)}{\\sigma \\sqrt{2}}\\right),$$ erf - error function of Laplace"
   ]
  },
  {
   "cell_type": "code",
   "execution_count": 13,
   "metadata": {},
   "outputs": [],
   "source": [
    "def get_lognormal_val(m, s):\n",
    "    mu = log(m)\n",
    "    y = get_gauss_val(mu, s)\n",
    "    return exp(y)"
   ]
  },
  {
   "cell_type": "code",
   "execution_count": 14,
   "metadata": {},
   "outputs": [],
   "source": [
    "def lognormal_distribution_modeling(m, s, n):\n",
    "    for _ in range(n):\n",
    "        yield get_lognormal_val(m, s)"
   ]
  },
  {
   "cell_type": "code",
   "execution_count": 15,
   "metadata": {},
   "outputs": [],
   "source": [
    "def lognormal_cdf(mu, s, x):\n",
    "    return 0.5 + 0.5 * erf((log(x) - log(mu)) / (s * sqrt(2)))"
   ]
  },
  {
   "cell_type": "markdown",
   "metadata": {},
   "source": [
    "### Экспоненциальное распределение\n",
    "Алгоритм моделирования СВ $\\xi \\sim E(\\lambda)$ основан на методе обратной функции. Обратная функция для $F_{\\xi}(x)$, определяемой как $$F_{\\xi}(x)=1-e^{-\\lambda x},$$ находится при решении  уравнения  относительно x: $$x=F_{\\xi}^{-1}(y)=-\\ln{(1-y)/\\lambda} \\quad (1)$$\n",
    "Далее в соответствии с методом обратной функции алгоритм моделирования СВ  состоит из двух шагов:\n",
    "1.\tМоделирование реализации a БСВ a.\n",
    "2.\tВычисление в соответствии с (1) реализации x СВ $\\xi$: $$x=-\\frac{1}{\\lambda}\\ln{a}$$\n",
    " \n",
    "где учтено, что a и a-1 одинаково распределены.  \n",
    "Коэффициент использования БСВ к=1.\n"
   ]
  },
  {
   "cell_type": "markdown",
   "metadata": {},
   "source": [
    "Mathematical expectation and variance of exponential distribution: $$E_{\\xi}=\\frac{1}{\\lambda} \\quad D_{\\xi}=\\frac{1}{\\lambda^2}$$"
   ]
  },
  {
   "cell_type": "markdown",
   "metadata": {},
   "source": [
    "Cumulative distribution function of exponential distribution: $$F_{\\xi}(x)=1-e^{-\\lambda x}$$"
   ]
  },
  {
   "cell_type": "code",
   "execution_count": 16,
   "metadata": {},
   "outputs": [],
   "source": [
    "lambda_val = 2"
   ]
  },
  {
   "cell_type": "code",
   "execution_count": 17,
   "metadata": {},
   "outputs": [],
   "source": [
    "def exponential_val(lambda_val):\n",
    "    return -(1 / lambda_val) * log(random())"
   ]
  },
  {
   "cell_type": "code",
   "execution_count": 18,
   "metadata": {},
   "outputs": [],
   "source": [
    "def exponential_distribution_modeling(lambda_val, n):\n",
    "    for _ in range(n):\n",
    "        yield exponential_val(lambda_val)"
   ]
  },
  {
   "cell_type": "code",
   "execution_count": 19,
   "metadata": {},
   "outputs": [],
   "source": [
    "def exponential_cdf(lambda_val, x):\n",
    "    return 1 - exp(-lambda_val * x)"
   ]
  },
  {
   "cell_type": "markdown",
   "metadata": {},
   "source": [
    "Now we will find sequences of random variables"
   ]
  },
  {
   "cell_type": "code",
   "execution_count": 20,
   "metadata": {},
   "outputs": [],
   "source": [
    "lognormal_seq = list(lognormal_distribution_modeling(m, s_2 ** 0.5, n))\n",
    "exponential_seq = list(exponential_distribution_modeling(lambda_val, n))"
   ]
  },
  {
   "cell_type": "markdown",
   "metadata": {},
   "source": [
    "Count theoretic E and D"
   ]
  },
  {
   "cell_type": "code",
   "execution_count": 21,
   "metadata": {},
   "outputs": [],
   "source": [
    "lognormal_theoretic_math_exp = m * exp(s_2) ** 0.5\n",
    "lognormal_variance = m ** 0.5 * exp(s_2) * (exp(s_2) - 1)"
   ]
  },
  {
   "cell_type": "code",
   "execution_count": 22,
   "metadata": {},
   "outputs": [],
   "source": [
    "exponential_theoretic_math_exp = 1 / lambda_val\n",
    "exponential_variance = 1 / lambda_val ** 2"
   ]
  },
  {
   "cell_type": "code",
   "execution_count": 23,
   "metadata": {},
   "outputs": [
    {
     "name": "stdout",
     "output_type": "stream",
     "text": [
      "Lognormal distribution\n",
      "Theoretic : E = 90.01713130052181, D = 65651866.05340294\n",
      "Actual : E = 40.57668417031029, D = 78748.46269323859\n",
      "\n",
      "Exponential distribution\n",
      "Theoretic : E = 0.5, D = 0.25\n",
      "Actual : E = 0.5049290420626962, D = 0.2413193337283928\n"
     ]
    }
   ],
   "source": [
    "print(\"Lognormal distribution\")\n",
    "print(\"Theoretic : E = {}, D = {}\".format(lognormal_theoretic_math_exp, lognormal_variance))\n",
    "print(\"Actual : E = {}, D = {}\".format(uemef(lognormal_seq), uvef(lognormal_seq, uemef(lognormal_seq))))\n",
    "\n",
    "print()\n",
    "\n",
    "print(\"Exponential distribution\")\n",
    "print(\"Theoretic : E = {}, D = {}\".format(exponential_theoretic_math_exp, exponential_variance))\n",
    "print(\"Actual : E = {}, D = {}\".format(uemef(exponential_seq), uvef(exponential_seq, uemef(exponential_seq))))"
   ]
  },
  {
   "cell_type": "markdown",
   "metadata": {},
   "source": [
    "#### Task3. Для каждой из случайных величин построить свой критерий Колмогорова с уровнем значимость ε=0.05. Проверить, что вероятность ошибки I рода стремится к 0.05."
   ]
  },
  {
   "cell_type": "markdown",
   "metadata": {},
   "source": [
    "### Критерий согласия Колмогорова\n",
    "Критерий Колмогорова-Смирнова используется для проверки гипотезы $H_0$: \"случайная величина X имеет распределение F(x)\".\n",
    "Статистика, называемая расстоянием Колмогорова между $\\hat{F_\\xi}(\\cdot)$ и $F_0(\\cdot)$: $$D_n=sup_{x\\in R^1}|\\hat{F_\\xi}(x)-F_0(x)|$$"
   ]
  },
  {
   "cell_type": "markdown",
   "metadata": {},
   "source": [
    "delta https://helpstat.ru/raspredelenie-statistiki-kolmogorova/"
   ]
  },
  {
   "cell_type": "code",
   "execution_count": 24,
   "metadata": {},
   "outputs": [],
   "source": [
    "delta = 1.358"
   ]
  },
  {
   "cell_type": "code",
   "execution_count": 25,
   "metadata": {},
   "outputs": [],
   "source": [
    "def kolmogorov(random_values, delta):\n",
    "        \n",
    "    n = len(random_values)\n",
    "\n",
    "    empirical = sorted(random_values)\n",
    " \n",
    "    test_seq = np.array([float(i + 1) / n for i in range(n)])\n",
    "    max_diff = max(list(map(abs, test_seq - empirical)))\n",
    "    value = sqrt(n) * max_diff\n",
    "    \n",
    "    print(\"Kolmogorov result = {}, delta = {}\".format(value, delta))\n",
    "    return value < delta    "
   ]
  },
  {
   "cell_type": "markdown",
   "metadata": {},
   "source": [
    "Kolmogorov check:"
   ]
  },
  {
   "cell_type": "code",
   "execution_count": 26,
   "metadata": {},
   "outputs": [
    {
     "name": "stdout",
     "output_type": "stream",
     "text": [
      "Kolmogorov result = 0.7161659418574773, delta = 1.358\n"
     ]
    },
    {
     "data": {
      "text/plain": [
       "True"
      ]
     },
     "execution_count": 26,
     "metadata": {},
     "output_type": "execute_result"
    }
   ],
   "source": [
    "gauss_cdf_seq = [gauss_cdf(m, sqrt(s_2), x) for x in gauss_seq] \n",
    "kolmogorov(gauss_cdf_seq, delta)"
   ]
  },
  {
   "cell_type": "code",
   "execution_count": 27,
   "metadata": {},
   "outputs": [
    {
     "name": "stdout",
     "output_type": "stream",
     "text": [
      "Kolmogorov result = 1.2559942935576487, delta = 1.358\n"
     ]
    },
    {
     "data": {
      "text/plain": [
       "True"
      ]
     },
     "execution_count": 27,
     "metadata": {},
     "output_type": "execute_result"
    }
   ],
   "source": [
    "lognormal_cdf_seq = [lognormal_cdf(m, sqrt(s_2), x) for x in lognormal_seq]\n",
    "kolmogorov(lognormal_cdf_seq, delta)"
   ]
  },
  {
   "cell_type": "code",
   "execution_count": 28,
   "metadata": {},
   "outputs": [
    {
     "name": "stdout",
     "output_type": "stream",
     "text": [
      "Kolmogorov result = 0.6466076196569844, delta = 1.358\n"
     ]
    },
    {
     "data": {
      "text/plain": [
       "True"
      ]
     },
     "execution_count": 28,
     "metadata": {},
     "output_type": "execute_result"
    }
   ],
   "source": [
    "exponential_cdf_sql = [exponential_cdf(x, lambda_val) for x in exponential_seq]\n",
    "kolmogorov(exponential_cdf_sql, delta)"
   ]
  },
  {
   "cell_type": "markdown",
   "metadata": {},
   "source": [
    "#### Task4. Для каждой из случайных величин построить свой χ2-критерий Пирсона с уровнем значимости ε=0.05. Проверить, что вероятность ошибки I рода стремится к 0.05."
   ]
  },
  {
   "cell_type": "markdown",
   "metadata": {},
   "source": [
    "Распределение $\\chi^2$ (хи-квадрат) с n степенями свободы — это распределение суммы квадратов n независимых стандартных нормальных случайных величин. http://www.machinelearning.ru/wiki/index.php?title=%D0%A0%D0%B0%D1%81%D0%BF%D1%80%D0%B5%D0%B4%D0%B5%D0%BB%D0%B5%D0%BD%D0%B8%D0%B5_%D1%85%D0%B8-%D0%BA%D0%B2%D0%B0%D0%B4%D1%80%D0%B0%D1%82"
   ]
  },
  {
   "cell_type": "markdown",
   "metadata": {},
   "source": [
    "Критерий Пирсона используется для проверки гипотезы $H_0$: \"случайная величина X имеет распределение F(x)\"."
   ]
  },
  {
   "cell_type": "markdown",
   "metadata": {},
   "source": [
    "http://www.machinelearning.ru/wiki/index.php?title=%D0%9A%D1%80%D0%B8%D1%82%D0%B5%D1%80%D0%B8%D0%B9_%D1%85%D0%B8-%D0%BA%D0%B2%D0%B0%D0%B4%D1%80%D0%B0%D1%82"
   ]
  },
  {
   "cell_type": "markdown",
   "metadata": {},
   "source": [
    "Гипотетические вероятности попадания значений $\\xi$ в ячейки гистограммы при истинной гипотезе $H_0$ и полностью заданной функции $F_0(x)$ равны: $$p_k = P\\{\\xi \\in [x_{k-1}, x_k)\\} = F_0(x_k) - F_0(x_{k-1}), k = \\overline{1, K},$$\n",
    "где $\\{x_l\\}(l=\\overline{0, K})$ - границы ячеек гистограммы"
   ]
  },
  {
   "cell_type": "markdown",
   "metadata": {},
   "source": [
    "Статистика критерия хи-квадрат: $$\\chi^2=\\sum_{i=1}^K \\frac{\\left(n_i- np_i\\right)^2}{np_i}$$"
   ]
  },
  {
   "cell_type": "code",
   "execution_count": 29,
   "metadata": {},
   "outputs": [],
   "source": [
    "K = 10 #число ячеек гистограммы\n",
    "delta_005_10 = 16.919"
   ]
  },
  {
   "cell_type": "code",
   "execution_count": 30,
   "metadata": {},
   "outputs": [],
   "source": [
    "def count_frequencies(random_seq, K):\n",
    "    \n",
    "    min_el = min(random_seq)\n",
    "    max_el = max(random_seq)\n",
    "    \n",
    "    step = (max_el - min_el) / K\n",
    "    intervals_values = np.arange(min_el, max_el + step, step) #(max_el + step) is not included\n",
    "    \n",
    "    frequencies = [0] * K\n",
    "    \n",
    "    sorted_random_seq = sorted(random_seq)\n",
    "    \n",
    "    last_position = 0\n",
    "    for i in range(K):\n",
    "        position = bisect_right(sorted_random_seq, intervals_values[i + 1]) #obtain position of insertion\n",
    "        frequencies[i] = position - last_position\n",
    "        last_position = position\n",
    "        \n",
    "    return frequencies, intervals_values"
   ]
  },
  {
   "cell_type": "code",
   "execution_count": 31,
   "metadata": {},
   "outputs": [],
   "source": [
    "def count_probabilities(intervals_values, cdf, *args):\n",
    "    k = len(intervals_values)\n",
    "    p = [0] * (k - 1)\n",
    "    \n",
    "    for i in range(k - 1):\n",
    "        p[i] = cdf(*args, intervals_values[i + 1]) - cdf(*args, intervals_values[i])\n",
    "        \n",
    "    return p"
   ]
  },
  {
   "cell_type": "code",
   "execution_count": 32,
   "metadata": {},
   "outputs": [],
   "source": [
    "def pearson(frequencies, p, n, K, delta):\n",
    "    chi_2 = sum([(frequencies[i] - n * p[i]) ** 2 / (n * p[i]) for i in range(K)])\n",
    "    print(\"chi_2 = {}, delta = {}\".format(chi_2, delta))\n",
    "    return chi_2 < delta"
   ]
  },
  {
   "cell_type": "markdown",
   "metadata": {},
   "source": [
    "Pearson check:"
   ]
  },
  {
   "cell_type": "code",
   "execution_count": 33,
   "metadata": {},
   "outputs": [
    {
     "name": "stdout",
     "output_type": "stream",
     "text": [
      "chi_2 = 10.428528674206742, delta = 16.919\n"
     ]
    },
    {
     "data": {
      "text/plain": [
       "True"
      ]
     },
     "execution_count": 33,
     "metadata": {},
     "output_type": "execute_result"
    }
   ],
   "source": [
    "gauss_frequencies, gauss_interval_values = count_frequencies(gauss_seq, K)\n",
    "gauss_p = count_probabilities(gauss_interval_values, gauss_cdf, m, s_2 ** 0.5)\n",
    "pearson(gauss_frequencies, gauss_p, n, K, delta_005_10)"
   ]
  },
  {
   "cell_type": "code",
   "execution_count": 34,
   "metadata": {},
   "outputs": [
    {
     "data": {
      "text/plain": [
       "[11, 34, 101, 183, 268, 231, 113, 49, 6, 3]"
      ]
     },
     "execution_count": 34,
     "metadata": {},
     "output_type": "execute_result"
    }
   ],
   "source": [
    "gauss_frequencies"
   ]
  },
  {
   "cell_type": "code",
   "execution_count": 35,
   "metadata": {},
   "outputs": [
    {
     "name": "stdout",
     "output_type": "stream",
     "text": [
      "chi_2 = 16.43026517148723, delta = 16.919\n"
     ]
    },
    {
     "data": {
      "text/plain": [
       "True"
      ]
     },
     "execution_count": 35,
     "metadata": {},
     "output_type": "execute_result"
    }
   ],
   "source": [
    "lognormal_frequencies, lognormal_interval_values = count_frequencies(lognormal_seq, K)\n",
    "lognormal_probabilities = count_probabilities(lognormal_interval_values, lognormal_cdf, m, s_2 ** 0.5)\n",
    "pearson(lognormal_frequencies, lognormal_probabilities, n, K, delta_005_10)"
   ]
  },
  {
   "cell_type": "code",
   "execution_count": 36,
   "metadata": {},
   "outputs": [
    {
     "name": "stdout",
     "output_type": "stream",
     "text": [
      "chi_2 = 8.580853897903362, delta = 16.919\n"
     ]
    },
    {
     "data": {
      "text/plain": [
       "True"
      ]
     },
     "execution_count": 36,
     "metadata": {},
     "output_type": "execute_result"
    }
   ],
   "source": [
    "exponential_frequencies, exponential_interval_values = count_frequencies(exponential_seq, K)\n",
    "exponential_probabilities = count_probabilities(exponential_interval_values, exponential_cdf, lambda_val)\n",
    "pearson(exponential_frequencies, exponential_probabilities, n, K, delta_005_10)"
   ]
  }
 ],
 "metadata": {
  "kernelspec": {
   "display_name": "Python 3",
   "language": "python",
   "name": "python3"
  },
  "language_info": {
   "codemirror_mode": {
    "name": "ipython",
    "version": 3
   },
   "file_extension": ".py",
   "mimetype": "text/x-python",
   "name": "python",
   "nbconvert_exporter": "python",
   "pygments_lexer": "ipython3",
   "version": "3.6.8"
  }
 },
 "nbformat": 4,
 "nbformat_minor": 2
}
